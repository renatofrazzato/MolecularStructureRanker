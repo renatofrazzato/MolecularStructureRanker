{
  "cells": [
    {
      "cell_type": "code",
      "execution_count": null,
      "metadata": {
        "colab": {
          "base_uri": "https://localhost:8080/"
        },
        "id": "fIiA6HKEb3Rg",
        "outputId": "d3027f89-ee31-4089-bdda-90d4689ae559"
      },
      "outputs": [
        {
          "name": "stdout",
          "output_type": "stream",
          "text": [
            "Mounted at /content/gdrive\n"
          ]
        }
      ],
      "source": [
        "from google.colab import drive\n",
        "drive.mount('/content/gdrive')"
      ]
    },
    {
      "cell_type": "code",
      "execution_count": null,
      "metadata": {
        "colab": {
          "base_uri": "https://localhost:8080/"
        },
        "id": "JX7Y-A5QcSnx",
        "outputId": "f2c3278d-1eb8-460e-da1a-8118289bd4a9"
      },
      "outputs": [
        {
          "name": "stdout",
          "output_type": "stream",
          "text": [
            "Found existing installation: Cython 3.0.12\n",
            "Uninstalling Cython-3.0.12:\n",
            "  Successfully uninstalled Cython-3.0.12\n",
            "Found existing installation: plotnine 0.14.5\n",
            "Uninstalling plotnine-0.14.5:\n",
            "  Successfully uninstalled plotnine-0.14.5\n",
            "Collecting cython==0.29.35\n",
            "  Downloading Cython-0.29.35-cp311-cp311-manylinux_2_17_x86_64.manylinux2014_x86_64.manylinux_2_24_x86_64.whl.metadata (3.1 kB)\n",
            "Downloading Cython-0.29.35-cp311-cp311-manylinux_2_17_x86_64.manylinux2014_x86_64.manylinux_2_24_x86_64.whl (1.9 MB)\n",
            "\u001b[2K   \u001b[90m━━━━━━━━━━━━━━━━━━━━━━━━━━━━━━━━━━━━━━━━\u001b[0m \u001b[32m1.9/1.9 MB\u001b[0m \u001b[31m21.3 MB/s\u001b[0m eta \u001b[36m0:00:00\u001b[0m\n",
            "\u001b[?25hInstalling collected packages: cython\n",
            "Successfully installed cython-0.29.35\n",
            "Collecting molmod\n",
            "  Downloading molmod-1.4.8.tar.gz (1.7 MB)\n",
            "\u001b[2K     \u001b[90m━━━━━━━━━━━━━━━━━━━━━━━━━━━━━━━━━━━━━━━━\u001b[0m \u001b[32m1.7/1.7 MB\u001b[0m \u001b[31m21.3 MB/s\u001b[0m eta \u001b[36m0:00:00\u001b[0m\n",
            "\u001b[?25h  Preparing metadata (setup.py) ... \u001b[?25l\u001b[?25hdone\n",
            "Requirement already satisfied: numpy>=1.16.0 in /usr/local/lib/python3.11/dist-packages (from molmod) (2.0.2)\n",
            "Requirement already satisfied: cython>=0.24.1 in /usr/local/lib/python3.11/dist-packages (from molmod) (0.29.35)\n",
            "Requirement already satisfied: future in /usr/local/lib/python3.11/dist-packages (from molmod) (1.0.0)\n",
            "Building wheels for collected packages: molmod\n",
            "  Building wheel for molmod (setup.py) ... \u001b[?25l\u001b[?25hdone\n",
            "  Created wheel for molmod: filename=molmod-1.4.8-cp311-cp311-linux_x86_64.whl size=1980833 sha256=1671f30f2851318da5df2dc08a8cd41f3d941acc23d67904d5102bd45e250ab8\n",
            "  Stored in directory: /root/.cache/pip/wheels/98/92/84/23679616891eb95192bde87ba09ce91602d44bc2b1ac0d93ba\n",
            "Successfully built molmod\n",
            "Installing collected packages: molmod\n",
            "Successfully installed molmod-1.4.8\n"
          ]
        }
      ],
      "source": [
        "!pip uninstall cython --y\n",
        "!pip uninstall plotnine --y\n",
        "!pip install cython==0.29.35\n",
        "!pip install molmod"
      ]
    },
    {
      "cell_type": "code",
      "execution_count": null,
      "metadata": {
        "id": "SdBznXyGeSRN"
      },
      "outputs": [],
      "source": [
        "import os\n",
        "import time\n",
        "import numpy as np\n",
        "import pandas as pd\n",
        "from tqdm import tqdm\n",
        "from molmod.molecules import Molecule"
      ]
    },
    {
      "cell_type": "code",
      "execution_count": null,
      "metadata": {
        "colab": {
          "base_uri": "https://localhost:8080/"
        },
        "id": "XHC9hqnDhiCE",
        "outputId": "e652a9c8-a667-4d9d-e9f9-e63877bdd0d2"
      },
      "outputs": [
        {
          "name": "stderr",
          "output_type": "stream",
          "text": [
            "WARNING:tensorflow:From /usr/local/lib/python3.11/dist-packages/tensorflow/python/compat/v2_compat.py:98: disable_resource_variables (from tensorflow.python.ops.resource_variables_toggle) is deprecated and will be removed in a future version.\n",
            "Instructions for updating:\n",
            "non-resource variables are not supported in the long term\n"
          ]
        }
      ],
      "source": [
        "import RankerModel"
      ]
    },
    {
      "cell_type": "markdown",
      "metadata": {
        "id": "-dbeJokWemMJ"
      },
      "source": [
        "# Download Data\n",
        "* QM7X train data"
      ]
    },
    {
      "cell_type": "code",
      "execution_count": null,
      "metadata": {
        "id": "yqZ3Vlu-ehZ9"
      },
      "outputs": [],
      "source": [
        "!cp '/content/gdrive/MyDrive/treino_full.zip' treino.zip"
      ]
    },
    {
      "cell_type": "code",
      "execution_count": null,
      "metadata": {
        "id": "3ihJwVoAeiMp"
      },
      "outputs": [],
      "source": [
        "!unzip treino.zip"
      ]
    },
    {
      "cell_type": "code",
      "execution_count": null,
      "metadata": {
        "colab": {
          "base_uri": "https://localhost:8080/"
        },
        "id": "vZA8mioPeiPA",
        "outputId": "056484b3-0cde-4615-f775-9cc2aac29440"
      },
      "outputs": [
        {
          "name": "stdout",
          "output_type": "stream",
          "text": [
            "Total molecules available for training: 6591\n"
          ]
        }
      ],
      "source": [
        "diretorio_treino = \"/content/treino/\"\n",
        "arquivos_treino = os.listdir(diretorio_treino)\n",
        "print(\"Total molecules available for training:\", len(arquivos_treino))"
      ]
    },
    {
      "cell_type": "markdown",
      "metadata": {
        "id": "qOnM61rShMr1"
      },
      "source": [
        "# Choose the Property"
      ]
    },
    {
      "cell_type": "code",
      "execution_count": null,
      "metadata": {
        "id": "DENi4EQReiRQ"
      },
      "outputs": [],
      "source": [
        "prop = \"HOMO_energy\" ## mean\n",
        "#prop = \"PBE0_energy\"\n",
        "#prop = 'Atomization_energy'\n",
        "#prop = \"LUMO_energy\" #mean\n",
        "#prop = \"Scalar_dipole_moment\"\n",
        "#prop = \"Kinetic_energy\"\n",
        "#prop = \"HOMO_LUMO_gap\" #mean\n",
        "#prop = \"TS_dispersion_energy\"\n",
        "#prop = \"Classical_coulomb_energy_el_el\"\n",
        "#prop = \"Exchange_energy\""
      ]
    },
    {
      "cell_type": "markdown",
      "metadata": {
        "id": "6WDcb5IbbOqT"
      },
      "source": [
        "# Loss function"
      ]
    },
    {
      "cell_type": "code",
      "execution_count": null,
      "metadata": {
        "id": "FOdEqVRSbK5B"
      },
      "outputs": [],
      "source": [
        "loss_f=\"BinaryCrossentropy\"\n",
        "#loss_f=\"MSE\""
      ]
    },
    {
      "cell_type": "markdown",
      "metadata": {
        "id": "PHXYq_GzgoIF"
      },
      "source": [
        "# Auxliary Functions"
      ]
    },
    {
      "cell_type": "code",
      "execution_count": null,
      "metadata": {
        "id": "pvQCF3k5fDfl"
      },
      "outputs": [],
      "source": [
        "def FeatureMatrix(simbols, Max_dim):\n",
        "  elementos_dict = {'C':0, 'Cl':1, 'H':2, 'N':3, 'O':4, 'S':5} #QM7-X\n",
        "  matrix_features = np.zeros(shape=(Max_dim, len(elementos_dict)), dtype=float, order='C')\n",
        "  dimensao = len(simbols)\n",
        "  for i in range(dimensao):\n",
        "    r = elementos_dict[simbols[i]]\n",
        "    matrix_features[i,r] = 1\n",
        "\n",
        "  return matrix_features\n",
        "\n",
        "\n",
        "def Euclidian_Distance(vec_a, vec_b):\n",
        "  # Input are atoms position\n",
        "  # output euclidean distance\n",
        "  aux = vec_a - vec_b\n",
        "  aux = aux**2\n",
        "  return sum(aux)**0.5\n",
        "\n",
        "\n",
        "def Distance_Matrix(coordinates, max_dim):\n",
        "  matrix_dist = np.zeros(shape=(max_dim, max_dim), dtype=float, order='C')\n",
        "  n_atoms = coordinates.shape[0]\n",
        "  for i in range(n_atoms):\n",
        "    for j in range(i, n_atoms):\n",
        "      vec_a = coordinates[i]\n",
        "      vec_b = coordinates[j]\n",
        "      dist = Euclidian_Distance(vec_a, vec_b)\n",
        "      matrix_dist[i,j] = dist\n",
        "      matrix_dist[j,i] = dist\n",
        "\n",
        "  return matrix_dist"
      ]
    },
    {
      "cell_type": "markdown",
      "metadata": {
        "id": "Xhabf89ghgYi"
      },
      "source": [
        "# Load Data"
      ]
    },
    {
      "cell_type": "code",
      "execution_count": null,
      "metadata": {
        "id": "QDLKgnjDhBwx"
      },
      "outputs": [],
      "source": [
        "# Molecules will be splitted 90% for training, 10% for validation\n",
        "frac_treino = 0.9"
      ]
    },
    {
      "cell_type": "code",
      "execution_count": null,
      "metadata": {
        "id": "q1cITTcofDlw"
      },
      "outputs": [],
      "source": [
        "def ExtractIsomerosConfomeros(val):\n",
        "  val=val.replace(\".xyz\",\"\")\n",
        "  aux = val.split(\"-\")\n",
        "  return aux[2], aux[3]"
      ]
    },
    {
      "cell_type": "code",
      "execution_count": null,
      "metadata": {
        "id": "z2eSVwQGhB2Z"
      },
      "outputs": [],
      "source": [
        "lst_features_treino = list()\n",
        "lst_distancias_treino = list()\n",
        "lst_mol_sizes_treino = list()\n",
        "lst_target_treino = list()\n",
        "\n",
        "lst_features_valid = list()\n",
        "lst_distancias_valid = list()\n",
        "lst_mol_sizes_valid = list()\n",
        "lst_target_valid = list()"
      ]
    },
    {
      "cell_type": "code",
      "execution_count": null,
      "metadata": {
        "id": "4b5kZtechqmU"
      },
      "outputs": [],
      "source": [
        "lst_moleculas_treino = list()\n",
        "lst_isomero_treino = list()\n",
        "lst_conformero_treino = list()\n",
        "\n",
        "lst_moleculas_valid = list()\n",
        "lst_isomero_valid = list()\n",
        "lst_conformero_valid = list()"
      ]
    },
    {
      "cell_type": "code",
      "execution_count": null,
      "metadata": {
        "colab": {
          "base_uri": "https://localhost:8080/"
        },
        "id": "-DL7eFswhqsU",
        "outputId": "37a21cd1-c1ec-49c9-f8f8-e4177cecfa7e"
      },
      "outputs": [
        {
          "name": "stderr",
          "output_type": "stream",
          "text": [
            "100%|██████████| 6591/6591 [27:15<00:00,  4.03it/s]"
          ]
        },
        {
          "name": "stdout",
          "output_type": "stream",
          "text": [
            "Time to load data : 1635.6535232067108\n"
          ]
        },
        {
          "name": "stderr",
          "output_type": "stream",
          "text": [
            "\n"
          ]
        }
      ],
      "source": [
        "inicio = time.time()\n",
        "for idx_aux in tqdm(range(int(len(arquivos_treino)))):\n",
        "  arq = arquivos_treino[idx_aux]\n",
        "  conjunto = np.random.choice(['treino', 'valid'], size=1, replace=True, p=[frac_treino, 1-frac_treino])[0]\n",
        "\n",
        "  df_aux = pd.read_csv(diretorio_treino + arq + \"/propriedades.csv\")\n",
        "\n",
        "  df_aux['isomero'] = df_aux['molecula_config'].apply(lambda x: ExtractIsomerosConfomeros(x)[0]).values\n",
        "  df_aux['conformero'] = df_aux['molecula_config'].apply(lambda x: ExtractIsomerosConfomeros(x)[1]).values\n",
        "  df_aux_drop_dup = df_aux[['isomero', 'conformero']].drop_duplicates()\n",
        "  lst_files = list()\n",
        "  for i in range(df_aux_drop_dup.shape[0]):\n",
        "    aux_isomero = df_aux_drop_dup.iloc[i]['isomero']\n",
        "    aux_conformero = df_aux_drop_dup.iloc[i]['conformero']\n",
        "\n",
        "    str_query = \"isomero == '\" + aux_isomero + \"' and conformero == '\" + aux_conformero + \"'\"\n",
        "    df_aux_strat = df_aux.query(str_query)\n",
        "    lst_files_aux0 = df_aux_strat['molecula_config'].tolist()\n",
        "\n",
        "    lst_files_aux1 = lst_files_aux0.copy()\n",
        "\n",
        "    lst_files_stratified = np.random.choice(lst_files_aux1, replace=False, size=30).tolist()\n",
        "    for c in lst_files_stratified:\n",
        "      lst_files.append(c+\".xyz\")\n",
        "\n",
        "\n",
        "  for molecula in lst_files:\n",
        "    molecule = Molecule.from_file(diretorio_treino + arq + \"/\" + molecula)\n",
        "    df_aux_tmp = df_aux[df_aux['molecula_config'] == str.replace(molecula, \".xyz\", \"\")]\n",
        "\n",
        "    val_target = df_aux_tmp[prop].values[0] #target\n",
        "    val_dist = Distance_Matrix(molecule.coordinates, 23)\n",
        "    val_features = FeatureMatrix(molecule.symbols, 23)\n",
        "    val_mol_size = len(molecule.symbols)\n",
        "\n",
        "    if conjunto == 'treino':\n",
        "      lst_target_treino.append(val_target)\n",
        "      lst_features_treino.append(val_features)\n",
        "      lst_distancias_treino.append(val_dist)\n",
        "      lst_mol_sizes_treino.append(val_mol_size)\n",
        "\n",
        "      lst_moleculas_treino.append(arq)\n",
        "      aux_iso, aux_conf = ExtractIsomerosConfomeros(molecula)\n",
        "      lst_isomero_treino.append(aux_iso)\n",
        "      lst_conformero_treino.append(aux_conf)\n",
        "    else:\n",
        "      lst_target_valid.append(val_target)\n",
        "      lst_features_valid.append(val_features)\n",
        "      lst_distancias_valid.append(val_dist)\n",
        "      lst_mol_sizes_valid.append(val_mol_size)\n",
        "\n",
        "      lst_moleculas_valid.append(arq)\n",
        "      aux_iso, aux_conf = ExtractIsomerosConfomeros(molecula)\n",
        "      lst_isomero_valid.append(aux_iso)\n",
        "      lst_conformero_valid.append(aux_conf)\n",
        "\n",
        "fim = time.time()\n",
        "print(\"Time to load data :\", fim - inicio)"
      ]
    },
    {
      "cell_type": "code",
      "execution_count": null,
      "metadata": {
        "id": "ta77nGlBhqwc"
      },
      "outputs": [],
      "source": [
        "df_treino_mapping = pd.DataFrame()\n",
        "df_treino_mapping['molecula'] = lst_moleculas_treino\n",
        "df_treino_mapping['isomero'] = lst_isomero_treino\n",
        "df_treino_mapping['conformero'] = lst_conformero_treino\n",
        "df_treino_mapping_nodup = df_treino_mapping.drop_duplicates()\n",
        "\n",
        "df_valid_mapping = pd.DataFrame()\n",
        "df_valid_mapping['molecula'] = lst_moleculas_valid\n",
        "df_valid_mapping['isomero'] = lst_isomero_valid\n",
        "df_valid_mapping['conformero'] = lst_conformero_valid\n",
        "df_valid_mapping_nodup = df_valid_mapping.drop_duplicates()"
      ]
    },
    {
      "cell_type": "code",
      "execution_count": null,
      "metadata": {
        "colab": {
          "base_uri": "https://localhost:8080/"
        },
        "id": "3hwfF_qxeiTf",
        "outputId": "4edeaf2d-5270-4a43-a670-7553166f6e13"
      },
      "outputs": [
        {
          "name": "stdout",
          "output_type": "stream",
          "text": [
            "Number of molecules structures for training: 1045170\n"
          ]
        }
      ],
      "source": [
        "print(\"Number of molecules structures for training:\", len(lst_target_treino))"
      ]
    },
    {
      "cell_type": "markdown",
      "metadata": {
        "id": "qIMRn2JOvZLQ"
      },
      "source": [
        "# Model Training"
      ]
    },
    {
      "cell_type": "code",
      "execution_count": null,
      "metadata": {
        "id": "4bbWd0oXiZ5H"
      },
      "outputs": [],
      "source": [
        "obj_ranker = RankerModel.ModelRanker(loss_f)"
      ]
    },
    {
      "cell_type": "code",
      "execution_count": null,
      "metadata": {
        "id": "tYK0stYy5_Qx"
      },
      "outputs": [],
      "source": [
        "ranker_model = obj_ranker.AtomNeuralNet(loss_f, predict_aggregation = 'mean')"
      ]
    },
    {
      "cell_type": "code",
      "execution_count": null,
      "metadata": {
        "colab": {
          "background_save": true,
          "base_uri": "https://localhost:8080/"
        },
        "id": "d41ONf1_iZ7i",
        "outputId": "8c0cce1a-1a1e-4f04-9d12-8442c3b0b001"
      },
      "outputs": [
        {
          "name": "stdout",
          "output_type": "stream",
          "text": [
            "Epoch: 1 Train Loss: 0.9635085       Validation Loss: 0.446828       Time(s): 1698.2757353782654 \n",
            "Epoch: 2 Train Loss: 0.46434736       Validation Loss: 0.5572996       Time(s): 1691.10098695755 \n",
            "Epoch: 3 Train Loss: 0.54724973       Validation Loss: 0.7183864       Time(s): 1688.4094231128693 \n",
            "Epoch: 4 Train Loss: 0.41995668       Validation Loss: 0.37013274       Time(s): 1691.6493618488312   Weights Updated :-)\n",
            "Epoch: 5 Train Loss: 0.4039389       Validation Loss: 0.40795818       Time(s): 1690.822716474533 \n",
            "Epoch: 6 Train Loss: 0.47787473       Validation Loss: 0.49995628       Time(s): 1689.23632979393 \n",
            "Epoch: 7 Train Loss: 0.30027884       Validation Loss: 0.5070126       Time(s): 1690.8656992912292 \n",
            "Epoch: 8 Train Loss: 0.6094624       Validation Loss: 0.22443339       Time(s): 1690.2598350048065   Weights Updated :-)\n",
            "Epoch: 9 Train Loss: 0.2972461       Validation Loss: 0.5204942       Time(s): 1690.9101660251617 \n",
            "Epoch: 10 Train Loss: 0.37504807       Validation Loss: 0.39432254       Time(s): 1689.1821451187134 \n",
            "Epoch: 11 Train Loss: 0.4587656       Validation Loss: 0.5778581       Time(s): 1688.6441774368286 \n",
            "Epoch: 12 Train Loss: 0.29803059       Validation Loss: 0.34868628       Time(s): 1685.896342754364 \n",
            "Epoch: 13 Train Loss: 0.5670771       Validation Loss: 0.39494944       Time(s): 1687.5306732654572 \n",
            "Epoch: 14 Train Loss: 0.23567697       Validation Loss: 0.3250339       Time(s): 1687.3850727081299 \n",
            "Epoch: 15 Train Loss: 0.47334194       Validation Loss: 0.43886036       Time(s): 1688.2963795661926 \n",
            "Epoch: 16 Train Loss: 0.39447924       Validation Loss: 0.33974046       Time(s): 1685.4202909469604 \n",
            "Epoch: 17 Train Loss: 0.33811536       Validation Loss: 0.48029342       Time(s): 1688.3308022022247 \n",
            "Epoch: 18 Train Loss: 0.48517263       Validation Loss: 0.5458633       Time(s): 1687.6130123138428 \n",
            "Epoch: 19 Train Loss: 0.2081223       Validation Loss: 0.35923088       Time(s): 1685.2303683757782 \n",
            "Epoch: 20 Train Loss: 0.3487553       Validation Loss: 0.4424243       Time(s): 1686.0243928432465 \n",
            "Epoch: 21 Train Loss: 0.4231568       Validation Loss: 0.71429753       Time(s): 1687.2452275753021 \n",
            "Epoch: 22 Train Loss: 0.4367695       Validation Loss: 0.28876457       Time(s): 1687.8950304985046 \n",
            "Epoch: 23 Train Loss: 0.33544177       Validation Loss: 0.38541752       Time(s): 1686.8196840286255 \n",
            "Epoch: 24 Train Loss: 0.20273621       Validation Loss: 0.16504441       Time(s): 1687.5425074100494   Weights Updated :-)\n",
            "Epoch: 25 Train Loss: 0.3720777       Validation Loss: 0.4012553       Time(s): 1687.195283651352 \n",
            "Epoch: 26 Train Loss: 0.3497953       Validation Loss: 0.45447528       Time(s): 1686.8432722091675 \n",
            "Epoch: 27 Train Loss: 0.33426872       Validation Loss: 0.34586945       Time(s): 1688.8546397686005 \n",
            "Epoch: 28 Train Loss: 0.39551163       Validation Loss: 0.16693455       Time(s): 1689.5850694179535 \n",
            "Epoch: 29 Train Loss: 0.27345347       Validation Loss: 0.3342293       Time(s): 1688.893292427063 \n"
          ]
        }
      ],
      "source": [
        "obj_ranker.TrainModel(ranker_model,\n",
        "           lst_features_treino, lst_target_treino,\n",
        "           lst_distancias_treino, lst_mol_sizes_treino,\n",
        "           df_treino_mapping_nodup, df_treino_mapping,\n",
        "           lst_features_valid, lst_target_valid,\n",
        "           lst_distancias_valid, lst_mol_sizes_valid,\n",
        "           df_valid_mapping_nodup, df_valid_mapping,\n",
        "           loss_f, 30)"
      ]
    },
    {
      "cell_type": "code",
      "execution_count": null,
      "metadata": {
        "id": "2k3_R_zK4WFv"
      },
      "outputs": [],
      "source": [
        "!mkdir \"/content/gdrive/MyDrive/ModelParameters_Pairwise/{prop}_{loss_f}\""
      ]
    },
    {
      "cell_type": "code",
      "execution_count": null,
      "metadata": {
        "id": "2B-4ch6jxibu"
      },
      "outputs": [],
      "source": [
        "!cp -r \"./parameters\" \"/content/gdrive/MyDrive/ModelParameters_Pairwise/{prop}_{loss_f}/\""
      ]
    },
    {
      "cell_type": "code",
      "execution_count": null,
      "metadata": {
        "id": "6-AL__fPGH-E"
      },
      "outputs": [],
      "source": [
        "from google.colab import runtime\n",
        "runtime.unassign()"
      ]
    },
    {
      "cell_type": "code",
      "execution_count": null,
      "metadata": {
        "id": "ypRRfxF09Lob"
      },
      "outputs": [],
      "source": []
    }
  ],
  "metadata": {
    "accelerator": "GPU",
    "colab": {
      "gpuType": "A100",
      "machine_shape": "hm",
      "provenance": []
    },
    "kernelspec": {
      "display_name": "Python 3",
      "name": "python3"
    },
    "language_info": {
      "name": "python"
    }
  },
  "nbformat": 4,
  "nbformat_minor": 0
}