{
  "cells": [
    {
      "cell_type": "code",
      "execution_count": null,
      "metadata": {
        "colab": {
          "base_uri": "https://localhost:8080/"
        },
        "id": "fIiA6HKEb3Rg",
        "outputId": "858edd35-f015-446f-b4aa-e142df552e9e"
      },
      "outputs": [
        {
          "output_type": "stream",
          "name": "stdout",
          "text": [
            "Mounted at /content/gdrive\n"
          ]
        }
      ],
      "source": [
        "from google.colab import drive\n",
        "drive.mount('/content/gdrive')"
      ]
    },
    {
      "cell_type": "code",
      "execution_count": null,
      "metadata": {
        "colab": {
          "base_uri": "https://localhost:8080/"
        },
        "id": "JX7Y-A5QcSnx",
        "outputId": "ad2f1b23-f85f-4637-9f9f-9ce68393c0d5"
      },
      "outputs": [
        {
          "output_type": "stream",
          "name": "stdout",
          "text": [
            "Found existing installation: Cython 3.0.12\n",
            "Uninstalling Cython-3.0.12:\n",
            "  Successfully uninstalled Cython-3.0.12\n",
            "Found existing installation: plotnine 0.14.5\n",
            "Uninstalling plotnine-0.14.5:\n",
            "  Successfully uninstalled plotnine-0.14.5\n",
            "Collecting cython==0.29.35\n",
            "  Downloading Cython-0.29.35-cp311-cp311-manylinux_2_17_x86_64.manylinux2014_x86_64.manylinux_2_24_x86_64.whl.metadata (3.1 kB)\n",
            "Downloading Cython-0.29.35-cp311-cp311-manylinux_2_17_x86_64.manylinux2014_x86_64.manylinux_2_24_x86_64.whl (1.9 MB)\n",
            "\u001b[2K   \u001b[90m━━━━━━━━━━━━━━━━━━━━━━━━━━━━━━━━━━━━━━━━\u001b[0m \u001b[32m1.9/1.9 MB\u001b[0m \u001b[31m4.0 MB/s\u001b[0m eta \u001b[36m0:00:00\u001b[0m\n",
            "\u001b[?25hInstalling collected packages: cython\n",
            "Successfully installed cython-0.29.35\n",
            "Collecting molmod\n",
            "  Downloading molmod-1.4.8.tar.gz (1.7 MB)\n",
            "\u001b[2K     \u001b[90m━━━━━━━━━━━━━━━━━━━━━━━━━━━━━━━━━━━━━━━━\u001b[0m \u001b[32m1.7/1.7 MB\u001b[0m \u001b[31m19.4 MB/s\u001b[0m eta \u001b[36m0:00:00\u001b[0m\n",
            "\u001b[?25h  Preparing metadata (setup.py) ... \u001b[?25l\u001b[?25hdone\n",
            "Requirement already satisfied: numpy>=1.16.0 in /usr/local/lib/python3.11/dist-packages (from molmod) (2.0.2)\n",
            "Requirement already satisfied: cython>=0.24.1 in /usr/local/lib/python3.11/dist-packages (from molmod) (0.29.35)\n",
            "Requirement already satisfied: future in /usr/local/lib/python3.11/dist-packages (from molmod) (1.0.0)\n",
            "Building wheels for collected packages: molmod\n",
            "  Building wheel for molmod (setup.py) ... \u001b[?25l\u001b[?25hdone\n",
            "  Created wheel for molmod: filename=molmod-1.4.8-cp311-cp311-linux_x86_64.whl size=1980835 sha256=02d3a7981f6bfd67ff1e4221ef284d7be64cef324057aa5fc6c5cfbe3e2632ca\n",
            "  Stored in directory: /root/.cache/pip/wheels/98/92/84/23679616891eb95192bde87ba09ce91602d44bc2b1ac0d93ba\n",
            "Successfully built molmod\n",
            "Installing collected packages: molmod\n",
            "Successfully installed molmod-1.4.8\n"
          ]
        }
      ],
      "source": [
        "!pip uninstall cython --y\n",
        "!pip uninstall plotnine --y\n",
        "!pip install cython==0.29.35\n",
        "!pip install molmod"
      ]
    },
    {
      "cell_type": "code",
      "execution_count": null,
      "metadata": {
        "id": "SdBznXyGeSRN"
      },
      "outputs": [],
      "source": [
        "import os\n",
        "import time\n",
        "import numpy as np\n",
        "import pandas as pd\n",
        "from tqdm import tqdm\n",
        "from molmod.molecules import Molecule"
      ]
    },
    {
      "cell_type": "code",
      "execution_count": null,
      "metadata": {
        "colab": {
          "base_uri": "https://localhost:8080/"
        },
        "id": "XHC9hqnDhiCE",
        "outputId": "7649a84f-34d9-443b-bdf7-e152568bb225"
      },
      "outputs": [
        {
          "output_type": "stream",
          "name": "stderr",
          "text": [
            "WARNING:tensorflow:From /usr/local/lib/python3.11/dist-packages/tensorflow/python/compat/v2_compat.py:98: disable_resource_variables (from tensorflow.python.ops.resource_variables_toggle) is deprecated and will be removed in a future version.\n",
            "Instructions for updating:\n",
            "non-resource variables are not supported in the long term\n"
          ]
        }
      ],
      "source": [
        "import RankerModel"
      ]
    },
    {
      "cell_type": "markdown",
      "metadata": {
        "id": "-dbeJokWemMJ"
      },
      "source": [
        "# Download Data\n",
        "* QM7X train data"
      ]
    },
    {
      "cell_type": "code",
      "execution_count": null,
      "metadata": {
        "id": "yqZ3Vlu-ehZ9"
      },
      "outputs": [],
      "source": [
        "!cp '/content/gdrive/MyDrive/teste_full.zip' teste.zip"
      ]
    },
    {
      "cell_type": "code",
      "execution_count": null,
      "metadata": {
        "id": "3ihJwVoAeiMp"
      },
      "outputs": [],
      "source": [
        "!unzip teste.zip"
      ]
    },
    {
      "cell_type": "code",
      "execution_count": null,
      "metadata": {
        "colab": {
          "base_uri": "https://localhost:8080/"
        },
        "id": "vZA8mioPeiPA",
        "outputId": "bb282040-0dca-4b61-8920-ccd6c7b1cfa1"
      },
      "outputs": [
        {
          "output_type": "stream",
          "name": "stdout",
          "text": [
            "Total Molecules: 359\n"
          ]
        }
      ],
      "source": [
        "diretorio_treino = \"/content/teste/\"\n",
        "arquivos_treino = os.listdir(diretorio_treino)\n",
        "print(\"Total Molecules:\", len(arquivos_treino))"
      ]
    },
    {
      "cell_type": "markdown",
      "metadata": {
        "id": "qOnM61rShMr1"
      },
      "source": [
        "# Choose the Property"
      ]
    },
    {
      "cell_type": "code",
      "execution_count": null,
      "metadata": {
        "id": "DENi4EQReiRQ"
      },
      "outputs": [],
      "source": [
        "prop = \"HOMO_energy\""
      ]
    },
    {
      "cell_type": "markdown",
      "metadata": {
        "id": "6WDcb5IbbOqT"
      },
      "source": [
        "# Loss function"
      ]
    },
    {
      "cell_type": "code",
      "execution_count": null,
      "metadata": {
        "id": "FOdEqVRSbK5B"
      },
      "outputs": [],
      "source": [
        "#loss_f=\"BinaryCrossentropy\"\n",
        "loss_f=\"MSE\""
      ]
    },
    {
      "cell_type": "markdown",
      "metadata": {
        "id": "PHXYq_GzgoIF"
      },
      "source": [
        "# Auxliary Functions"
      ]
    },
    {
      "cell_type": "code",
      "source": [
        "def ExtractIsomerosConfomeros(val):\n",
        "  val=val.replace(\".xyz\",\"\")\n",
        "  aux = val.split(\"-\")\n",
        "  return aux[2], aux[3]"
      ],
      "metadata": {
        "id": "mer87eTJI9LR"
      },
      "execution_count": null,
      "outputs": []
    },
    {
      "cell_type": "code",
      "execution_count": null,
      "metadata": {
        "id": "pvQCF3k5fDfl"
      },
      "outputs": [],
      "source": [
        "def FeatureMatrix(simbols, Max_dim):\n",
        "  elementos_dict = {'C':0, 'Cl':1, 'H':2, 'N':3, 'O':4, 'S':5} #QM7-X\n",
        "  matrix_features = np.zeros(shape=(Max_dim, len(elementos_dict)), dtype=float, order='C')\n",
        "  dimensao = len(simbols)\n",
        "  for i in range(dimensao):\n",
        "    r = elementos_dict[simbols[i]]\n",
        "    matrix_features[i,r] = 1\n",
        "\n",
        "  return matrix_features\n",
        "\n",
        "\n",
        "def Euclidian_Distance(vec_a, vec_b):\n",
        "  # Input are atoms position\n",
        "  # output euclidean distance\n",
        "  aux = vec_a - vec_b\n",
        "  aux = aux**2\n",
        "  return sum(aux)**0.5\n",
        "\n",
        "\n",
        "def Distance_Matrix(coordinates, max_dim):\n",
        "  matrix_dist = np.zeros(shape=(max_dim, max_dim), dtype=float, order='C')\n",
        "  n_atoms = coordinates.shape[0]\n",
        "  for i in range(n_atoms):\n",
        "    for j in range(i, n_atoms):\n",
        "      vec_a = coordinates[i]\n",
        "      vec_b = coordinates[j]\n",
        "      dist = Euclidian_Distance(vec_a, vec_b)\n",
        "      matrix_dist[i,j] = dist\n",
        "      matrix_dist[j,i] = dist\n",
        "\n",
        "  return matrix_dist"
      ]
    },
    {
      "cell_type": "markdown",
      "metadata": {
        "id": "Xhabf89ghgYi"
      },
      "source": [
        "# Load Data"
      ]
    },
    {
      "cell_type": "code",
      "execution_count": null,
      "metadata": {
        "id": "QDLKgnjDhBwx"
      },
      "outputs": [],
      "source": [
        "lst_features_teste = list()\n",
        "lst_distancias_teste = list()\n",
        "lst_mol_sizes_teste = list()\n",
        "lst_target_teste = list()\n",
        "\n",
        "lst_molecule = list()\n",
        "lst_molecule_file_name = list()"
      ]
    },
    {
      "cell_type": "code",
      "execution_count": null,
      "metadata": {
        "id": "q1cITTcofDlw",
        "colab": {
          "base_uri": "https://localhost:8080/"
        },
        "outputId": "dbde7494-1ee8-4183-af63-8d6067939ff1"
      },
      "outputs": [
        {
          "output_type": "stream",
          "name": "stdout",
          "text": [
            "Time to load data : 247.11971378326416\n"
          ]
        }
      ],
      "source": [
        "inicio = time.time()\n",
        "for arq in arquivos_treino:\n",
        "  df_aux = pd.read_csv(diretorio_treino + arq + \"/propriedades.csv\")\n",
        "  lst_files = os.listdir(diretorio_treino + \"/\" + arq + \"/\")\n",
        "\n",
        "  lst_files_aux = lst_files.copy()\n",
        "  lst_files_aux.remove(\"propriedades.csv\")\n",
        "\n",
        "  lst_files = lst_files_aux\n",
        "\n",
        "  for molecula in lst_files:\n",
        "    molecule = Molecule.from_file(diretorio_treino + arq + \"/\" + molecula)\n",
        "    df_aux_tmp = df_aux[df_aux['molecula_config'] == str.replace(molecula, \".xyz\", \"\")]\n",
        "\n",
        "    val_target = df_aux_tmp[prop].values[0] #target\n",
        "    val_dist = Distance_Matrix(molecule.coordinates, 23)\n",
        "    val_features = FeatureMatrix(molecule.symbols, 23)\n",
        "    val_mol_size = len(molecule.symbols)\n",
        "\n",
        "    lst_target_teste.append(val_target)\n",
        "    lst_features_teste.append(val_features)\n",
        "    lst_distancias_teste.append(val_dist)\n",
        "    lst_mol_sizes_teste.append(val_mol_size)\n",
        "\n",
        "    lst_molecule.append(arq)\n",
        "    lst_molecule_file_name.append(molecula)\n",
        "\n",
        "fim = time.time()\n",
        "print(\"Time to load data :\", fim - inicio)"
      ]
    },
    {
      "cell_type": "code",
      "execution_count": null,
      "metadata": {
        "id": "z2eSVwQGhB2Z",
        "colab": {
          "base_uri": "https://localhost:8080/"
        },
        "outputId": "41a789d3-8b3e-4a20-ecc0-422982ff3e77"
      },
      "outputs": [
        {
          "output_type": "stream",
          "name": "stdout",
          "text": [
            "Number of samples for testing: 207252\n"
          ]
        }
      ],
      "source": [
        "print(\"Number of samples for testing:\", len(lst_target_teste))"
      ]
    },
    {
      "cell_type": "markdown",
      "metadata": {
        "id": "qIMRn2JOvZLQ"
      },
      "source": [
        "# Model Training"
      ]
    },
    {
      "cell_type": "code",
      "execution_count": null,
      "metadata": {
        "id": "4bbWd0oXiZ5H"
      },
      "outputs": [],
      "source": [
        "obj_ranker = RankerModel.ModelRanker(loss_f)"
      ]
    },
    {
      "cell_type": "code",
      "execution_count": null,
      "metadata": {
        "id": "tYK0stYy5_Qx"
      },
      "outputs": [],
      "source": [
        "ranker_model = obj_ranker.AtomNeuralNet(loss_f, predict_aggregation = 'mean')"
      ]
    },
    {
      "cell_type": "code",
      "source": [
        "caminho_parametros = f\"/content/gdrive/MyDrive/ModelParameters_Pairwise/{prop}_{loss_f}/parameters/parameters.ckp\"\n",
        "print(caminho_parametros)"
      ],
      "metadata": {
        "id": "mMqseGykFPOg"
      },
      "execution_count": null,
      "outputs": []
    },
    {
      "cell_type": "code",
      "execution_count": null,
      "metadata": {
        "id": "d41ONf1_iZ7i"
      },
      "outputs": [],
      "source": [
        "predicted_ranking_scores = obj_ranker.Predict(ranker_model, caminho_parametros,\n",
        "                                              lst_features_teste, lst_target_teste,\n",
        "                                              lst_distancias_teste, lst_mol_sizes_teste)"
      ]
    },
    {
      "cell_type": "markdown",
      "source": [
        "# Saving Results"
      ],
      "metadata": {
        "id": "LW5_TILBIxpp"
      }
    },
    {
      "cell_type": "code",
      "source": [
        "df_resultados = pd.DataFrame()\n",
        "df_resultados['Molecula'] = lst_molecule\n",
        "df_resultados['FileName'] = lst_molecule_file_name\n",
        "df_resultados[prop] = lst_target_teste\n",
        "df_resultados['Predito'] = predicted_ranking_scores"
      ],
      "metadata": {
        "id": "TNcXKEvAI0Nj"
      },
      "execution_count": null,
      "outputs": []
    },
    {
      "cell_type": "code",
      "source": [
        "df_resultados['Isomero'] = df_resultados['FileName'].apply(lambda x: ExtractIsomerosConfomeros(x)[0]).values\n",
        "df_resultados['Conformero'] = df_resultados['FileName'].apply(lambda x: ExtractIsomerosConfomeros(x)[1]).values"
      ],
      "metadata": {
        "id": "UHcStPdSJBFC"
      },
      "execution_count": null,
      "outputs": []
    },
    {
      "cell_type": "code",
      "source": [
        "df_resultados.to_csv(f\"/content/gdrive/MyDrive/ModelParameters_Pairwise/{prop}_{loss_f}/structures_scores_{loss_f}.csv\")"
      ],
      "metadata": {
        "id": "v-jN4_fzJFvP"
      },
      "execution_count": null,
      "outputs": []
    },
    {
      "cell_type": "code",
      "execution_count": null,
      "metadata": {
        "id": "6-AL__fPGH-E"
      },
      "outputs": [],
      "source": [
        "from google.colab import runtime\n",
        "runtime.unassign()"
      ]
    },
    {
      "cell_type": "code",
      "source": [],
      "metadata": {
        "id": "ypRRfxF09Lob"
      },
      "execution_count": null,
      "outputs": []
    }
  ],
  "metadata": {
    "colab": {
      "machine_shape": "hm",
      "provenance": [],
      "gpuType": "A100"
    },
    "kernelspec": {
      "display_name": "Python 3",
      "name": "python3"
    },
    "language_info": {
      "name": "python"
    },
    "accelerator": "GPU"
  },
  "nbformat": 4,
  "nbformat_minor": 0
}